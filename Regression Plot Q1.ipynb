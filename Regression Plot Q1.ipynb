import pandas as pd
import matplotlib.pyplot as plt
import numpy as np

# reading data from the csv
data = pd.read_csv(r"C:\Users\HP\Desktop\GWQ&SDP.csv")

# Clean data and convert to numeric
data['SDP'] = pd.to_numeric(data['SDP'], errors='coerce')
data['Calcium'] = pd.to_numeric(data['Calcium'], errors='coerce')

# Drop rows with NaN values
data.dropna(subset=['SDP', 'Calcium'], inplace=True)

# plotting the original values
x = data['SDP']
y = data['Calcium']
plt.scatter(x, y)

# finding the maximum and minimum
# values of x, to get the
# range of data
max_x = x.max()
min_x = x.min()

# range of values for plotting
# the regression line
x_values = np.arange(min_x, max_x, 1)

# the substituted equation
y_values = 1.0143 * x_values - 0.4618

# plotting the regression line
plt.plot(x_values, y_values, 'r')
plt.show()

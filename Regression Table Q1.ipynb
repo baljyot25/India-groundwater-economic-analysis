import statsmodels.api as sm
import pandas as pd

# reading data from the csv
data = pd.read_csv(r"C:\Users\HP\Desktop\GWQ&SDP.csv")

# Convert numeric columns to appropriate data type
data['SDP'] = pd.to_numeric(data['SDP'], errors='coerce')
data['Calcium'] = pd.to_numeric(data['Calcium'], errors='coerce')

# Drop rows with NaN values
data.dropna(subset=['SDP', 'Calcium'], inplace=True)

# defining the variables
x = data['SDP']
y = data['Calcium']

# adding the constant term
x = sm.add_constant(x)

# performing the regression
# and fitting the model
result = sm.OLS(y, x).fit()

# printing the summary table
print(result.summary())

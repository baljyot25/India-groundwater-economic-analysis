{
 "cells": [
  {
   "cell_type": "code",
   "execution_count": 2,
   "metadata": {},
   "outputs": [],
   "source": [
    "import pandas as pd\n",
    "import matplotlib.pyplot as plt\n",
    "import openpyxl\n",
    "from tabulate import tabulate\n",
    "import statsmodels\n",
    "import math\n",
    "import pandas as pd\n",
    "from sklearn.linear_model import LinearRegression\n",
    "import numpy as np\n",
    "from sklearn.linear_model import LinearRegression\n",
    "from sklearn.preprocessing import PolynomialFeatures\n",
    "import pandas as pd"
   ]
  },
  {
   "cell_type": "code",
   "execution_count": 3,
   "metadata": {},
   "outputs": [],
   "source": [
    "def classify_region(state):\n",
    "    if state in ['Chandigarh','Delhi','Haryana','Himachal Pradesh','Jammu And Kashmir','Punjab','Rajasthan']:\n",
    "        return 'NORTHERN REGION'\n",
    "    elif state in ['Arunachal Pradesh','Assam','Manipur','Meghalaya','Mizoram','Nagaland','Tripura']:  #manipur,mizoram not in data\n",
    "        return 'NORTH-EASTERN REGION'\n",
    "    elif state in ['Andaman And Nicobar Islands','Bihar','Jharkhand','Odisha','West Bengal']:#sikkim not in data\n",
    "        return 'EASTERN REGION'\n",
    "    elif state in ['Chhattisgarh','Madhya Pradesh','Uttar Pradesh', 'Uttarakhand',  ]:\n",
    "        return 'CENTRAL REGION'\n",
    "    if state in ['Dadra & Nagar Haveli','Daman & Diu','Goa','Gujarat','Maharashtra']: # Dadra & Nagar,Daman & Diu Haveli not in data\n",
    "        return 'WESTERN REGION'\n",
    "    elif state in ['Andhra Pradesh','Karnataka','Kerala','Lakshadweep','Pondicherry','Tamilnadu','Telangana','Tamil Nadu']: # Lakshadweep not in data  . 'Telangana' added to southern region\n",
    "        return 'SOUTHERN REGION'\n",
    "    else:\n",
    "        print(\"unknown found\", state)\n",
    "        return 'Unknown'"
   ]
  },
  {
   "cell_type": "code",
   "execution_count": 5,
   "metadata": {},
   "outputs": [
    {
     "name": "stdout",
     "output_type": "stream",
     "text": [
      "(7187, 10)\n",
      "(7187, 15)\n",
      "(7187, 20)\n",
      "(7187, 25)\n",
      "(7187, 30)\n"
     ]
    }
   ],
   "source": [
    "# Reading data from the csv\n",
    "df = pd.read_csv(r\"..\\Excels\\merged_table.csv\")\n",
    "gwq='calcium'\n",
    "# Convert numeric columns to appropriate data type\n",
    "df['SDP'] = pd.to_numeric(df['SDP'], errors='coerce')\n",
    "df[gwq] = pd.to_numeric(df[gwq], errors='coerce')\n",
    "df['Gini'] = pd.to_numeric(df['Gini'], errors='coerce')\n",
    "\n",
    "df.dropna(subset=['SDP', gwq,'Gini'], inplace=True)\n",
    "\n",
    "x = df['SDP'].values.reshape(-1, 1)  # Independent variable\n",
    "y = df[gwq].values  # Dependent variable\n",
    "x2 = x ** 2\n",
    "x3 = x ** 3\n",
    "x4 = df['Gini'].values.reshape(-1, 1)  # Fourth variable\n",
    "\n",
    "# Create polynomial features\n",
    "poly = PolynomialFeatures(degree=3)  # You can change the degree here\n",
    "X_poly = poly.fit_transform(x)\n",
    "\n",
    "# Add fourth variable\n",
    "X_poly = np.concatenate((X_poly, x4), axis=1)\n",
    "\n",
    "# Drop rows with NaN values\n",
    "\n",
    "df['Region'] = df['state'].apply(classify_region)\n",
    "dummy_regions = pd.get_dummies(df['Region'], prefix='region')\n",
    "\n",
    "# Concatenate the original DataFrame with the dummy variable DataFrame\n",
    "df = pd.concat([df, dummy_regions], axis=1)\n",
    "\n",
    "\n",
    "\n",
    "final_x_region = X_poly.copy()\n",
    "region = ['region_NORTHERN REGION','region_NORTH-EASTERN REGION','region_EASTERN REGION','region_CENTRAL REGION','region_WESTERN REGION']  #southern region is the base cat\n",
    "\n",
    "for rg in region:\n",
    "    curr_rg = np.array(df[rg]).reshape(-1, 1)  # Reshape to make it a column vector\n",
    "    # print(curr_rg)\n",
    "    new_x_poly_rg= []\n",
    "    \n",
    "    # Multiply each element of X_poly by the current year and append to new_x_poly\n",
    "    for i in range(len(X_poly)):\n",
    "        l = []\n",
    "        for j in range(len(X_poly[i])):\n",
    "            l.append(X_poly[i][j] * curr_rg[i])\n",
    "        # print(l)\n",
    "        new_x_poly_rg.append(l)\n",
    "        \n",
    "    # Convert new_x_poly to numpy array\n",
    "    new_x_poly_rg = np.array(new_x_poly_rg).reshape(-1, len(X_poly[0]))  # Reshape to match final_x\n",
    "    \n",
    "    # Add new_x_poly to final_x by horizontally stacking them\n",
    "    final_x_region = np.hstack((final_x_region, new_x_poly_rg))\n",
    "    # print(final_x_region)\n",
    "    # break\n",
    "\n",
    "    \n",
    "    print(final_x_region.shape)\n",
    "\n"
   ]
  },
  {
   "cell_type": "code",
   "execution_count": 6,
   "metadata": {},
   "outputs": [
    {
     "name": "stdout",
     "output_type": "stream",
     "text": [
      "Intercept: 37.14979749860284\n",
      "Coefficients: [-1.45924559e-07  4.77764984e-04 -1.82809542e-09  1.95725597e-15\n",
      " -6.12362684e-06  1.47347288e-06  7.45600679e-05 -1.27991113e-09\n",
      "  3.93429186e-15 -2.76087078e-08 -2.71017880e-07 -2.01022891e-03\n",
      "  3.63128704e-08 -2.03497369e-13 -6.27728272e-08  6.02026377e-07\n",
      " -2.54757809e-04  2.76299015e-10  6.89166335e-16 -6.70722307e-07\n",
      " -1.15793021e-07 -2.40044330e-05 -9.13363117e-11  1.09219816e-16\n",
      " -3.62283902e-08 -5.28389403e-08 -1.66977254e-04  1.22147119e-09\n",
      " -1.62494801e-15 -1.33418619e-08]\n",
      "R^2: 0.15119843576848124\n"
     ]
    }
   ],
   "source": [
    "y = df[gwq].values  # Dependent variable\n",
    "\n",
    "dummy_region_model = LinearRegression(fit_intercept=True).fit(final_x_region, y)\n",
    "\n",
    "# Get coefficients and intercept\n",
    "intercept = dummy_region_model.intercept_\n",
    "coefficients = dummy_region_model.coef_\n",
    "\n",
    "# Print coefficients\n",
    "print(\"Intercept:\", intercept)\n",
    "print(\"Coefficients:\", coefficients)\n",
    "\n",
    "# Evaluate R^2\n",
    "r_squared = dummy_region_model.score(final_x_region, y)\n",
    "print(\"R^2:\", r_squared)"
   ]
  }
 ],
 "metadata": {
  "kernelspec": {
   "display_name": "Python 3",
   "language": "python",
   "name": "python3"
  },
  "language_info": {
   "codemirror_mode": {
    "name": "ipython",
    "version": 3
   },
   "file_extension": ".py",
   "mimetype": "text/x-python",
   "name": "python",
   "nbconvert_exporter": "python",
   "pygments_lexer": "ipython3",
   "version": "3.11.0"
  }
 },
 "nbformat": 4,
 "nbformat_minor": 2
}

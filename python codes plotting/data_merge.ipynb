{
 "cells": [
  {
   "cell_type": "code",
   "execution_count": 3,
   "metadata": {},
   "outputs": [],
   "source": [
    "import pandas as pd\n",
    "import matplotlib.pyplot as plt\n",
    "from tabulate import tabulate\n",
    "import math"
   ]
  },
  {
   "cell_type": "code",
   "execution_count": 4,
   "metadata": {},
   "outputs": [],
   "source": [
    "# Read the first CSV file and drop specified columns\n",
    "df = pd.read_csv(r\"..\\Excels\\gini_serial_no_district_excel1_csv.csv\")\n",
    "drop_columns = 'arsenic,carbonate,chloride,fluorine,iron,hydrogencarbonate,potassium,magnesium,nitrate,sodium,percentageofsodium,phosphateion,residualsodiumcarbonate,sodiumabsorptionratio,sulfate,silicondioxide,alkalinitytotal,potentialofhydrogen,electricalconductivity,hardnesstotal,totaldissolvedsolids'.split(',')\n",
    "df = df.drop(columns=drop_columns)\n",
    "df['SDP'] = None\n",
    "gwq='calcium'\n",
    "\n",
    "# Display the modified DataFrame\n",
    "table = tabulate(df, headers='keys', tablefmt='pretty')\n",
    "\n",
    "# Read the second CSV file\n",
    "df2 = pd.read_csv(r\"..\\Excels\\standardised1999-2022.csv\")\n",
    "\n",
    "# Rename states for consistency\n",
    "df2 = df2.rename(columns={\n",
    "    'JAMMU & KASHMIR': 'JAMMU AND KASHMIR',\n",
    "    'ORISSA': 'ODISHA',\n",
    "    'TAMIL NADU': 'TAMILNADU',\n",
    "    'ANDAMAN & NICOBAR ISLANDS': 'ANDAMAN AND NICOBAR ISLANDS',\n",
    "    'PUDUCHERRY': 'PONDICHERRY'\n",
    "})\n",
    "\n",
    "# Create a tabular representation of the DataFrame\n",
    "table = tabulate(df2, headers='keys', tablefmt='pretty')\n",
    "\n",
    "# Extract values for SIKKIM in exact years\n",
    "exact_years = df2['SIKKIM']\n",
    "\n",
    "# Iterate over each row in the DataFrame\n",
    "for index, row in df.iterrows():\n",
    "    if (math.isnan(row['year'])): \n",
    "        print(\"Nan found continue\")\n",
    "        continue\n",
    "    year = row['year']\n",
    "    state = row['state'].upper()\n",
    "    # print(year,state)\n",
    "\n",
    "    # Handle state name inconsistencies\n",
    "    if state == 'TAMIL NADU':\n",
    "        state = 'TAMILNADU'\n",
    "    if state == 'THE DADRA AND NAGAR HAVELI AND DAMAN AND DIU':\n",
    "        continue\n",
    "\n",
    "    # Extract SDP value for the specific year and state\n",
    "    value = df2.loc[(df2['exact_year'] == year) & (df2[state].notnull()), state].values\n",
    "    \n",
    "    # Skip if no value found for the specific year and state\n",
    "    if len(value) == 0:\n",
    "        continue\n",
    "\n",
    "    # Assign SDP value to the corresponding row in the DataFrame\n",
    "    df.at[index, 'SDP'] = float(value[0])\n",
    "df = df.drop(['Unnamed: 30', 'Unnamed: 29'], axis=1)\n",
    "\n"
   ]
  },
  {
   "cell_type": "code",
   "execution_count": 5,
   "metadata": {},
   "outputs": [],
   "source": [
    "df3 = pd.read_csv(r\"..\\Excels\\GINI Index.xlsx - Sheet1.csv\")\n",
    "df3 = df3.loc[:, ['Serial No.', 'Gini, 2010 - 2011']]\n",
    "table3 = tabulate(df3, headers='keys', tablefmt='pretty')\n",
    "df['Gini'] = None\n",
    "\n",
    "for index, row in df.iterrows():\n",
    "    s_no=row['Serial No.']\n",
    "    if (math.isnan(s_no)): \n",
    "        # print(\"Nan found continue\")\n",
    "        continue\n",
    "    # print(s_no)\n",
    "\n",
    "    value = df3.loc[(df3['Serial No.'] == s_no)].values\n",
    "    df.at[index, 'Gini'] = float(value[0][1])"
   ]
  },
  {
   "cell_type": "code",
   "execution_count": 6,
   "metadata": {},
   "outputs": [
    {
     "name": "stdout",
     "output_type": "stream",
     "text": [
      "Data merged into Excels\\merged_table.csv\n"
     ]
    }
   ],
   "source": [
    "df.to_csv(r\"..\\Excels\\merged_table.csv\")\n",
    "print(\"Data merged into Excels\\merged_table.csv\")"
   ]
  }
 ],
 "metadata": {
  "kernelspec": {
   "display_name": "Python 3",
   "language": "python",
   "name": "python3"
  },
  "language_info": {
   "codemirror_mode": {
    "name": "ipython",
    "version": 3
   },
   "file_extension": ".py",
   "mimetype": "text/x-python",
   "name": "python",
   "nbconvert_exporter": "python",
   "pygments_lexer": "ipython3",
   "version": "3.11.0"
  }
 },
 "nbformat": 4,
 "nbformat_minor": 2
}
